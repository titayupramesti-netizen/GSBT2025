{
  "nbformat": 4,
  "nbformat_minor": 0,
  "metadata": {
    "colab": {
      "provenance": []
    },
    "kernelspec": {
      "name": "python3",
      "display_name": "Python 3"
    },
    "language_info": {
      "name": "python"
    }
  },
  "cells": [
    {
      "cell_type": "markdown",
      "source": [
        "# BayesianSearchCV\n",
        "\n",
        "1. Apa itu hyperparameter tuning?\n",
        "> Hyperparameter tuning adalah proses mencari konfigurasi terbaik dari parameter model machine learning yang tidak dapat dipelajari langsung dari data. Contohnya meliputi learning rate, jumlah pohon pada Random Forest, atau jumlah hidden layer pada jaringan saraf tiruan. Tujuan dari hyperparameter tuning adalah untuk memperoleh performa model yang lebih optimal.\n",
        "\n",
        "2. Jelaskan metode BayesSearchCV!\n",
        "> BayesSearchCV adalah metode pencarian hyperparameter yang menggunakan pendekatan Bayesian Optimization dengan membungkus proses Cross Validation. Tidak seperti GridSearchCV yang mencoba semua kombinasi atau Random Search yang memilih secara acak, BayesSearchCV lebih efisien karena memanfaatkan informasi dari percobaan sebelumnya untuk memperkirakan kombinasi hyperparameter selanjutnya yang lebih menjanjikan.\n",
        "\n",
        "3. Bagaimana cara kerja BayesSearchCV?\n",
        "> - Pada awalnya, BayesSearchCV mencoba beberapa kombinasi hyperparameter secara acak.\n",
        "\n",
        "> - Selanjutnya, dibuat model probabilistik yang memperkirakan hubungan antara hyperparameter dan performa model.\n",
        "\n",
        "> - Berdasarkan model perkiraan tersebut, BayesSearchCV memilih kombinasi hyperparameter baru yang diprediksi lebih menjanjikan.\n",
        "\n",
        "> - Proses ini diulangi hingga jumlah iterasi yang ditentukan tercapai.\n",
        "\n",
        "> - Akhirnya, diperoleh kombinasi hyperparameter terbaik berdasarkan hasil evaluasi.\n",
        "\n",
        "4. Apa kelebihan BayesSearchCV dibandingkan metode hyperparameter tuning lainnya?\n",
        "> - Efisien waktu, karena tidak perlu mencoba semua kombinasi seperti GridSearch.\n",
        "\n",
        "> - Lebih cerdas dibanding Random Search, sebab BayesSearchCV menggunakan informasi dari percobaan sebelumnya.\n",
        "\n",
        "> - Cepat menemukan hasil optimal, sehingga biasanya lebih cepat mendapatkan konfigurasi yang baik.\n",
        "\n",
        "> - Fleksibel, mampu menangani parameter diskrit (misalnya jumlah pohon pada Random Forest) maupun parameter kontinu (misalnya learning rate)."
      ],
      "metadata": {
        "id": "pjbXCL2nNB9N"
      }
    },
    {
      "cell_type": "code",
      "execution_count": 18,
      "metadata": {
        "id": "2o0dt8txGE1k",
        "colab": {
          "base_uri": "https://localhost:8080/"
        },
        "outputId": "7647c402-c418-4c95-e8e8-247168699588"
      },
      "outputs": [
        {
          "output_type": "stream",
          "name": "stdout",
          "text": [
            "Requirement already satisfied: scikit-optimize in /usr/local/lib/python3.12/dist-packages (0.10.2)\n",
            "Requirement already satisfied: joblib>=0.11 in /usr/local/lib/python3.12/dist-packages (from scikit-optimize) (1.5.2)\n",
            "Requirement already satisfied: pyaml>=16.9 in /usr/local/lib/python3.12/dist-packages (from scikit-optimize) (25.7.0)\n",
            "Requirement already satisfied: numpy>=1.20.3 in /usr/local/lib/python3.12/dist-packages (from scikit-optimize) (2.0.2)\n",
            "Requirement already satisfied: scipy>=1.1.0 in /usr/local/lib/python3.12/dist-packages (from scikit-optimize) (1.16.2)\n",
            "Requirement already satisfied: scikit-learn>=1.0.0 in /usr/local/lib/python3.12/dist-packages (from scikit-optimize) (1.6.1)\n",
            "Requirement already satisfied: packaging>=21.3 in /usr/local/lib/python3.12/dist-packages (from scikit-optimize) (25.0)\n",
            "Requirement already satisfied: PyYAML in /usr/local/lib/python3.12/dist-packages (from pyaml>=16.9->scikit-optimize) (6.0.2)\n",
            "Requirement already satisfied: threadpoolctl>=3.1.0 in /usr/local/lib/python3.12/dist-packages (from scikit-learn>=1.0.0->scikit-optimize) (3.6.0)\n"
          ]
        }
      ],
      "source": [
        "# import library\n",
        "!pip install scikit-optimize\n",
        "\n",
        "from sklearn.datasets import load_iris\n",
        "from sklearn.model_selection import train_test_split\n",
        "from sklearn.svm import SVC\n",
        "from sklearn.pipeline import Pipeline\n",
        "from sklearn.preprocessing import StandardScaler\n",
        "from skopt import BayesSearchCV\n",
        "from skopt.space import Real\n",
        "from sklearn.metrics import accuracy_score, classification_report, confusion_matrix"
      ]
    },
    {
      "cell_type": "code",
      "source": [
        "from sklearn.datasets import load_iris\n",
        "from sklearn.model_selection import train_test_split\n",
        "\n",
        "X, y = load_iris(return_X_y=True)\n",
        "\n",
        "X_train, X_test, y_train, y_test = train_test_split(\n",
        "    X, y, train_size=0.75, random_state=0\n",
        ")"
      ],
      "metadata": {
        "id": "v7ENirBIHIYz"
      },
      "execution_count": 19,
      "outputs": []
    },
    {
      "cell_type": "code",
      "source": [
        "pipe = Pipeline([\n",
        "    (\"scaler\", StandardScaler()),\n",
        "    (\"clf\", SVC(random_state=0))\n",
        "])"
      ],
      "metadata": {
        "id": "Wgwy0vaPr-gi"
      },
      "execution_count": 23,
      "outputs": []
    },
    {
      "cell_type": "code",
      "source": [
        "# Definisikan Model dan parameter yang akan dioptimasi (Ruang Hyperparameter)\n",
        "from skopt.space import Real, Integer, Categorical\n",
        "search_space = {\n",
        "    \"clf__C\": Real(1e-3, 1e3, prior=\"log-uniform\"),\n",
        "    \"clf__gamma\": Real(1e-4, 1e0, prior=\"log-uniform\"),\n",
        "}"
      ],
      "metadata": {
        "id": "vmyqOLU1IO3T"
      },
      "execution_count": 20,
      "outputs": []
    },
    {
      "cell_type": "markdown",
      "source": [
        "# Fungsi Optimisasi Menggunakan BayesianSearchCV"
      ],
      "metadata": {
        "id": "Ip5U8cL4OLUP"
      }
    },
    {
      "cell_type": "code",
      "source": [
        "from skopt.space import Real\n",
        "\n",
        "search_space = {\n",
        "    \"clf__C\": Real(1e-3, 1e3, prior=\"log-uniform\"),\n",
        "    \"clf__gamma\": Real(1e-4, 1e0, prior=\"log-uniform\"),\n",
        "}"
      ],
      "metadata": {
        "id": "KDuvCifTZRjA"
      },
      "execution_count": 21,
      "outputs": []
    },
    {
      "cell_type": "code",
      "source": [
        "# Inisialisasi BayesSearchCV\n",
        "from skopt import BayesSearchCV\n",
        "\n",
        "opt = BayesSearchCV(\n",
        "    estimator=pipe,\n",
        "    search_spaces=search_space,\n",
        "    n_iter=20,\n",
        "    cv=5,\n",
        "    scoring=\"accuracy\",\n",
        "    n_jobs=-1,\n",
        "    random_state=0,\n",
        "    verbose=0\n",
        ")"
      ],
      "metadata": {
        "id": "BC0k0vXKOBJk"
      },
      "execution_count": 24,
      "outputs": []
    },
    {
      "cell_type": "code",
      "source": [
        "# Jalankan optimisasi\n",
        "opt.fit(X_train, y_train)\n",
        "\n",
        "print(\"Best CV Accuracy :\", opt.best_score_)\n",
        "print(\"Best Parameters  :\", opt.best_params_)\n"
      ],
      "metadata": {
        "id": "EYoUwsYCOB5F",
        "colab": {
          "base_uri": "https://localhost:8080/"
        },
        "outputId": "553a07ec-9ca8-46ab-a9ea-66917d8ba24b"
      },
      "execution_count": 25,
      "outputs": [
        {
          "output_type": "stream",
          "name": "stdout",
          "text": [
            "Best CV Accuracy : 0.9557312252964426\n",
            "Best Parameters  : OrderedDict({'clf__C': 1.5338574134575653, 'clf__gamma': 0.05061952149969536})\n"
          ]
        }
      ]
    },
    {
      "cell_type": "code",
      "source": [
        "# Evaluasi Model\n",
        "from sklearn.metrics import accuracy_score, classification_report, confusion_matrix\n",
        "\n",
        "y_pred = opt.predict(X_test)\n",
        "\n",
        "print(\"Test Accuracy      :\", accuracy_score(y_test, y_pred))\n",
        "print(\"\\nClassification Report:\\n\", classification_report(y_test, y_pred))\n",
        "print(\"Confusion Matrix:\\n\", confusion_matrix(y_test, y_pred))"
      ],
      "metadata": {
        "id": "sox5OZx6OD0z",
        "colab": {
          "base_uri": "https://localhost:8080/"
        },
        "outputId": "3405868f-69e7-449f-bd30-a3d375c5f213"
      },
      "execution_count": 26,
      "outputs": [
        {
          "output_type": "stream",
          "name": "stdout",
          "text": [
            "Test Accuracy      : 0.9736842105263158\n",
            "\n",
            "Classification Report:\n",
            "               precision    recall  f1-score   support\n",
            "\n",
            "           0       1.00      1.00      1.00        13\n",
            "           1       1.00      0.94      0.97        16\n",
            "           2       0.90      1.00      0.95         9\n",
            "\n",
            "    accuracy                           0.97        38\n",
            "   macro avg       0.97      0.98      0.97        38\n",
            "weighted avg       0.98      0.97      0.97        38\n",
            "\n",
            "Confusion Matrix:\n",
            " [[13  0  0]\n",
            " [ 0 15  1]\n",
            " [ 0  0  9]]\n"
          ]
        }
      ]
    }
  ]
}