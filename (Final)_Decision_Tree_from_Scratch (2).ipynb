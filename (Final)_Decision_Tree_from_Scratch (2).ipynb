{
  "nbformat": 4,
  "nbformat_minor": 0,
  "metadata": {
    "colab": {
      "provenance": []
    },
    "kernelspec": {
      "name": "python3",
      "display_name": "Python 3"
    },
    "language_info": {
      "name": "python"
    }
  },
  "cells": [
    {
      "cell_type": "markdown",
      "source": [
        "# Overview Materi\n",
        "\n",
        "Source: https://www.youtube.com/watch?v=LDRbO9a6XPU"
      ],
      "metadata": {
        "id": "fQjXfMWTFXhh"
      }
    },
    {
      "cell_type": "markdown",
      "source": [
        "Jelaskan secara singkat apa itu decision tree menurut pemahamanmu!\n",
        "\n",
        "=> Decision trees adalah algoritme pembelajaran yang diawasi dan bersifat non-parametrik, yang digunakan untuk tugas klasifikasi dan regresi."
      ],
      "metadata": {
        "id": "UH5otNgmFY4r"
      }
    },
    {
      "cell_type": "markdown",
      "source": [
        "# Import Data & Libraries"
      ],
      "metadata": {
        "id": "yR_dxhoaIGZY"
      }
    },
    {
      "cell_type": "code",
      "execution_count": null,
      "metadata": {
        "id": "E3fobMaeFOAe"
      },
      "outputs": [],
      "source": [
        "from __future__ import print_function\n",
        "\n",
        "# label kolom\n",
        "header = [\"color\", \"diameter\", \"label\"]\n",
        "\n",
        "# data training\n",
        "training_data = [\n",
        "    ['Green', 3, 'Apple'],\n",
        "    ['Yellow', 3, 'Apple'],\n",
        "    ['Red', 1, 'Grape'],\n",
        "    ['Red', 1, 'Grape'],\n",
        "    ['Yellow', 3, 'Lemon'],]\n",
        "\n",
        "# data testing\n",
        "testing_data = [\n",
        "    ['Green', 3, 'Apple'],\n",
        "    ['Yellow', 4, 'Apple'],\n",
        "    ['Red', 2, 'Grape'],\n",
        "    ['Red', 1, 'Grape'],\n",
        "    ['Yellow', 3, 'Lemon'],]"
      ]
    },
    {
      "cell_type": "markdown",
      "source": [
        "# Fungsi Dasar"
      ],
      "metadata": {
        "id": "YMsTb3E1MWY6"
      }
    },
    {
      "cell_type": "code",
      "source": [
        "# fungsi mencari apa saja unique value dari suatu kolom\n",
        "def unique_vals(rows, col):\n",
        "    uniq = []\n",
        "    for r in rows:\n",
        "        v = r[col]\n",
        "        if v not in uniq:\n",
        "            uniq.append(v)\n",
        "    return uniq\n",
        "\n",
        "def class_counts(rows):\n",
        "    counts = {}\n",
        "    for r in rows:\n",
        "        lbl = r[-1]\n",
        "        if lbl not in counts:\n",
        "            counts[lbl] = 0\n",
        "        counts[lbl] += 1\n",
        "    return counts\n",
        "\n",
        "def is_numeric(v):\n",
        "    return type(v) in (int, float)\n",
        "\n",
        "# contoh penggunaan\n",
        "COL_COLOR = 0\n",
        "COL_DIAMETER = 1\n",
        "COL_LABEL = 2\n",
        "\n",
        "print(\"Unique color (train):   \", unique_vals(training_data, COL_COLOR))\n",
        "print(\"Unique diameter (train):\", unique_vals(training_data, COL_DIAMETER))\n",
        "print(\"Class counts (train):   \", class_counts(training_data))"
      ],
      "metadata": {
        "id": "Bgzx5gwhSTWp",
        "colab": {
          "base_uri": "https://localhost:8080/"
        },
        "outputId": "b0705e7f-8780-4324-e1df-a32c42d52765"
      },
      "execution_count": null,
      "outputs": [
        {
          "output_type": "stream",
          "name": "stdout",
          "text": [
            "Unique color (train):    ['Green', 'Yellow', 'Red']\n",
            "Unique diameter (train): [3, 1]\n",
            "Class counts (train):    {'Apple': 2, 'Grape': 2, 'Lemon': 1}\n"
          ]
        }
      ]
    },
    {
      "cell_type": "code",
      "source": [
        "# fungsi Menghitung jumlah unique value dari suatu kolom\n",
        "def class_counts(rows):\n",
        "    counts = {}\n",
        "    for r in rows:\n",
        "        lbl = r[-1]\n",
        "        if lbl not in counts:\n",
        "            counts[lbl] = 0\n",
        "        counts[lbl] += 1\n",
        "    return counts\n",
        "\n",
        "# contoh penggunaan\n",
        "COL_COLOR = 0\n",
        "COL_DIAMETER = 1\n",
        "COL_LABEL = 2\n",
        "\n",
        "print(\"n_unique diameter:\", len(unique_vals(training_data, COL_DIAMETER)))\n",
        "print(\"n_unique label:\",    len(unique_vals(training_data, COL_LABEL)))"
      ],
      "metadata": {
        "id": "hhF6uUhrJesN",
        "colab": {
          "base_uri": "https://localhost:8080/"
        },
        "outputId": "80ca33ef-981e-43be-8e92-0a575db0ad5a"
      },
      "execution_count": null,
      "outputs": [
        {
          "output_type": "stream",
          "name": "stdout",
          "text": [
            "n_unique diameter: 2\n",
            "n_unique label: 3\n"
          ]
        }
      ]
    },
    {
      "cell_type": "code",
      "source": [
        "# fungsi pengecekan suatu value numerik atau bukan\n",
        "def is_numeric(value):\n",
        "  return (type(value) is int) or (type(value) is float)\n",
        "\n",
        "# contoh penggunaan\n",
        "print(is_numeric(3))\n",
        "print(is_numeric(3.5))\n",
        "print(is_numeric(\"3\"))\n",
        "print(is_numeric(\"Green\"))\n",
        "\n",
        "print(is_numeric(training_data[0][1]))\n",
        "print(is_numeric(training_data[0][0]))"
      ],
      "metadata": {
        "id": "U9mxqVcnI9vw",
        "colab": {
          "base_uri": "https://localhost:8080/"
        },
        "outputId": "f32e929a-85d8-415e-b592-98a7484841a0"
      },
      "execution_count": null,
      "outputs": [
        {
          "output_type": "stream",
          "name": "stdout",
          "text": [
            "True\n",
            "True\n",
            "False\n",
            "False\n",
            "True\n",
            "False\n"
          ]
        }
      ]
    },
    {
      "cell_type": "code",
      "source": [
        "# kelas untuk merepresentasikan pertanyaan pada decision tree\n",
        "class Question:\n",
        "\n",
        "    # inisialisasi kolom dan nilai pertanyaan\n",
        "    def __init__(self, column, value):\n",
        "        self.column = column\n",
        "        self.value = value\n",
        "\n",
        "    # mengecek apakah contoh data sesuai dengan pertanyaan\n",
        "    def match(self, example):\n",
        "        val = example[self.column]\n",
        "        if is_numeric(val):\n",
        "            return val >= self.value\n",
        "        else:\n",
        "            return val == self.value\n",
        "\n",
        "    # menampilkan pertanyaan dalam format string yang mudah dibaca\n",
        "    def __repr__(self):\n",
        "        cond = \">=\" if is_numeric(self.value) else \"==\"\n",
        "        return f\"Is {header[self.column]} {cond} {self.value}?\"\n",
        "\n",
        "# contoh penggunaan\n",
        "q1 = Question(1, 3)\n",
        "q2 = Question(0, \"Red\")\n",
        "\n",
        "print(q1)\n",
        "print([q1.match(r) for r in training_data])\n",
        "\n",
        "print(q2)\n",
        "print([q2.match(r) for r in training_data])"
      ],
      "metadata": {
        "id": "MekftmdeLPRo",
        "colab": {
          "base_uri": "https://localhost:8080/"
        },
        "outputId": "a4365349-37c7-4318-952f-8afe9a80579c"
      },
      "execution_count": null,
      "outputs": [
        {
          "output_type": "stream",
          "name": "stdout",
          "text": [
            "Is diameter >= 3?\n",
            "[True, True, False, False, True]\n",
            "Is color == Red?\n",
            "[False, False, True, True, False]\n"
          ]
        }
      ]
    },
    {
      "cell_type": "code",
      "source": [
        "# membagi dataset menjadi dua berdasarkan pertanyaan\n",
        "def partition(rows, question):\n",
        "    true_rows, false_rows = [], []\n",
        "    for r in rows:\n",
        "        if question.match(r):\n",
        "            true_rows.append(r)\n",
        "        else:\n",
        "            false_rows.append(r)\n",
        "    return true_rows, false_rows\n",
        "\n",
        "# contoh penggunaan\n",
        "q = Question(1, 3)\n",
        "true_rows, false_rows = partition(training_data, q)\n",
        "\n",
        "print(q)\n",
        "print(\"True rows:\", true_rows)\n",
        "print(\"False rows:\", false_rows)\n",
        "print(\"Jumlah True:\", len(true_rows), \"| Jumlah False:\", len(false_rows))"
      ],
      "metadata": {
        "id": "Y3lTf9NbL8Ik",
        "colab": {
          "base_uri": "https://localhost:8080/"
        },
        "outputId": "f2bb367f-5790-45ec-bf04-2cde637265f1"
      },
      "execution_count": null,
      "outputs": [
        {
          "output_type": "stream",
          "name": "stdout",
          "text": [
            "Is diameter >= 3?\n",
            "True rows: [['Green', 3, 'Apple'], ['Yellow', 3, 'Apple'], ['Yellow', 3, 'Lemon']]\n",
            "False rows: [['Red', 1, 'Grape'], ['Red', 1, 'Grape']]\n",
            "Jumlah True: 3 | Jumlah False: 2\n"
          ]
        }
      ]
    },
    {
      "cell_type": "markdown",
      "source": [
        "**apa itu gini impurity?**\n",
        "<br> gini impurity berfungsi mengukur tingkat ketidakmurnian atau ketidakteraturan pada sebuah simpul (node) dalam pohon"
      ],
      "metadata": {
        "id": "X4D5BkyeMdSG"
      }
    },
    {
      "cell_type": "code",
      "source": [
        "# menghitung nilai Gini Impurity untuk sebuah dataset\n",
        "def gini(rows):\n",
        "    n = len(rows)\n",
        "    if n == 0:\n",
        "        return 0.0\n",
        "\n",
        "    counts = {}\n",
        "    for r in rows:\n",
        "        lbl = r[-1]\n",
        "        counts[lbl] = counts.get(lbl, 0) + 1\n",
        "\n",
        "    impurity = 1.0\n",
        "    for lbl in counts:\n",
        "        p = counts[lbl] / float(n)\n",
        "        impurity -= p * p\n",
        "    return impurity\n",
        "\n",
        "# contoh penggunaan\n",
        "print(\"Gini(training):\", gini(training_data))\n",
        "\n",
        "\n",
        "q = Question(1, 3)\n",
        "true_rows, false_rows = partition(training_data, q)\n",
        "\n",
        "print(q)\n",
        "print(\"Gini(true_rows): \", gini(true_rows))\n",
        "print(\"Gini(false_rows):\", gini(false_rows))"
      ],
      "metadata": {
        "id": "DmAnmSzFMKtA",
        "colab": {
          "base_uri": "https://localhost:8080/"
        },
        "outputId": "835d3c57-439b-40b8-a606-0480ec4690f2"
      },
      "execution_count": null,
      "outputs": [
        {
          "output_type": "stream",
          "name": "stdout",
          "text": [
            "Gini(training): 0.6399999999999999\n",
            "Is diameter >= 3?\n",
            "Gini(true_rows):  0.4444444444444445\n",
            "Gini(false_rows): 0.0\n"
          ]
        }
      ]
    },
    {
      "cell_type": "markdown",
      "source": [
        "**apa itu information gain?**\n",
        "<br> information gain berfungsi mengukur seberapa efektif sebuah fitur dalam memisahkan data berdasarkan kelas-kelasnya"
      ],
      "metadata": {
        "id": "SyxWlLNOM_2U"
      }
    },
    {
      "cell_type": "code",
      "source": [
        "# menghitung nilai Information Gain dari pemisahan dataset\n",
        "def info_gain(left, right, current_uncertainty):\n",
        "\n",
        "    total = len(left) + len(right)\n",
        "    if total == 0:\n",
        "        return 0.0\n",
        "\n",
        "    p = len(left) / float(total)\n",
        "    gain = current_uncertainty - (p * gini(left) + (1 - p) * gini(right))\n",
        "    return gain\n",
        "\n",
        "# contoh penggunaan\n",
        "parent_gini = gini(training_data)\n",
        "print(\"Gini parent (training):\", parent_gini)\n",
        "\n",
        "q1 = Question(1, 3)\n",
        "true_rows, false_rows = partition(training_data, q1)\n",
        "gain1 = info_gain(true_rows, false_rows, parent_gini)\n",
        "\n",
        "print(q1)\n",
        "print(\"Gini(true):\", gini(true_rows), \"| Gini(false):\", gini(false_rows))\n",
        "print(\"Information Gain (diameter>=3):\", gain1)\n",
        "\n",
        "q2 = Question(0, \"Red\")\n",
        "t2, f2 = partition(training_data, q2)\n",
        "gain2 = info_gain(t2, f2, parent_gini)\n",
        "\n",
        "print(q2)\n",
        "print(\"Gini(true):\", gini(t2), \"| Gini(false):\", gini(f2))\n",
        "print(\"Information Gain (color=='Red'):\", gain2)"
      ],
      "metadata": {
        "id": "rObVucEEMiIZ",
        "colab": {
          "base_uri": "https://localhost:8080/"
        },
        "outputId": "e268703b-7e46-4ce3-df1f-a44a5be8f849"
      },
      "execution_count": null,
      "outputs": [
        {
          "output_type": "stream",
          "name": "stdout",
          "text": [
            "Gini parent (training): 0.6399999999999999\n",
            "Is diameter >= 3?\n",
            "Gini(true): 0.4444444444444445 | Gini(false): 0.0\n",
            "Information Gain (diameter>=3): 0.37333333333333324\n",
            "Is color == Red?\n",
            "Gini(true): 0.0 | Gini(false): 0.4444444444444445\n",
            "Information Gain (color=='Red'): 0.37333333333333324\n"
          ]
        }
      ]
    },
    {
      "cell_type": "code",
      "source": [
        "# mencari pertanyaan terbaik untuk membagi dataset berdasarkan information gain tertinggi\n",
        "def find_best_split(rows):\n",
        "    best_gain = 0.0\n",
        "    best_question = None\n",
        "    current_uncertainty = gini(rows)\n",
        "\n",
        "    n_features = len(rows[0]) - 1\n",
        "\n",
        "    for col in range(n_features):\n",
        "        values = unique_vals(rows, col)\n",
        "        for val in values:\n",
        "            q = Question(col, val)\n",
        "\n",
        "            # splitting the dataset\n",
        "            left, right = partition(rows, q)\n",
        "\n",
        "            if len(left) == 0 or len(right) == 0:\n",
        "                continue\n",
        "\n",
        "            gain = info_gain(left, right, current_uncertainty)\n",
        "\n",
        "            if gain > best_gain:\n",
        "                best_gain = gain\n",
        "                best_question = q\n",
        "\n",
        "    return best_gain, best_question\n",
        "\n",
        "# contoh penggunaan\n",
        "gain, question = find_best_split(training_data)\n",
        "print(\"Best gain:\", gain)\n",
        "print(\"Best question:\", question)\n",
        "\n",
        "if question is not None:\n",
        "    left, right = partition(training_data, question)\n",
        "    print(\"Left rows :\", left)\n",
        "    print(\"Right rows:\", right)\n",
        "else:\n",
        "    print(\"Tidak ada split yang membagi data.\")\n"
      ],
      "metadata": {
        "id": "OK8Lc7koOIyS",
        "colab": {
          "base_uri": "https://localhost:8080/"
        },
        "outputId": "05eff498-fcd8-43fe-f7af-9a7a2d621c4c"
      },
      "execution_count": null,
      "outputs": [
        {
          "output_type": "stream",
          "name": "stdout",
          "text": [
            "Best gain: 0.37333333333333324\n",
            "Best question: Is color == Red?\n",
            "Left rows : [['Red', 1, 'Grape'], ['Red', 1, 'Grape']]\n",
            "Right rows: [['Green', 3, 'Apple'], ['Yellow', 3, 'Apple'], ['Yellow', 3, 'Lemon']]\n"
          ]
        }
      ]
    },
    {
      "cell_type": "markdown",
      "source": [
        "# Fungsi Decision Tree"
      ],
      "metadata": {
        "id": "t225xaaIPGow"
      }
    },
    {
      "cell_type": "code",
      "source": [
        "# merepresentasikan node daun (leaf) pada decision tree yang berisi hasil prediksi\n",
        "class Leaf:\n",
        "\n",
        "    # inisialisasi leaf dengan menghitung jumlah kemunculan tiap kelas\n",
        "    def __init__(self, rows):\n",
        "        self.predictions = class_counts(rows)"
      ],
      "metadata": {
        "id": "3KXNVwMPOZ5c"
      },
      "execution_count": null,
      "outputs": []
    },
    {
      "cell_type": "code",
      "source": [
        "# merepresentasikan node keputusan (decision node) yang berisi pertanyaan dan cabang\n",
        "class Decision_Node:\n",
        "\n",
        "    def __init__(self,\n",
        "                 question,\n",
        "                 true_branch,\n",
        "                 false_branch):\n",
        "        self.question = question\n",
        "        self.true_branch = true_branch\n",
        "        self.false_branch = false_branch"
      ],
      "metadata": {
        "id": "gktUwUY-P-eN"
      },
      "execution_count": null,
      "outputs": []
    },
    {
      "cell_type": "code",
      "source": [
        "# membangun decision tree secara rekursif\n",
        "def build_tree(rows):\n",
        "    gain, question = find_best_split(rows)\n",
        "    if gain == 0:\n",
        "        return Leaf(rows)\n",
        "\n",
        "    left, right = partition(rows, question)\n",
        "\n",
        "    true_branch = build_tree(left)\n",
        "    false_branch = build_tree(right)\n",
        "    return Decision_Node(question, true_branch, false_branch)"
      ],
      "metadata": {
        "id": "_cWHvsMKPPsk"
      },
      "execution_count": null,
      "outputs": []
    },
    {
      "cell_type": "code",
      "source": [
        "# mencetak struktur decision tree secara rekursif dalam format teks\n",
        "def print_tree(node, spacing=\"\"):\n",
        "\n",
        "    # base case: jika sudah mencapai leaf\n",
        "    if isinstance(node, Leaf):\n",
        "        print(spacing + \"Predict\", dict(node.predictions))\n",
        "        return\n",
        "\n",
        "    # mencetak pertanyaan pada node saat ini\n",
        "    print(spacing + str(node.question))\n",
        "\n",
        "    # mencetak cabang true secara rekursif\n",
        "    print(spacing + \"--> True:\")\n",
        "    print_tree(node.true_branch, spacing + \"  \")\n",
        "\n",
        "    # mencetak cabang false secara rekursif\n",
        "    print(spacing + \"--> False:\")\n",
        "    print_tree(node.false_branch, spacing + \"  \")\n",
        "\n",
        "# contoh penggunaan\n",
        "my_tree = build_tree(training_data)\n",
        "print_tree(my_tree)"
      ],
      "metadata": {
        "id": "tx_AbjiYPS05",
        "colab": {
          "base_uri": "https://localhost:8080/"
        },
        "outputId": "1bde594c-d602-4816-c5d0-6bb2f894d657"
      },
      "execution_count": null,
      "outputs": [
        {
          "output_type": "stream",
          "name": "stdout",
          "text": [
            "Is color == Red?\n",
            "--> True:\n",
            "  Predict {'Grape': 2}\n",
            "--> False:\n",
            "  Is color == Yellow?\n",
            "  --> True:\n",
            "    Predict {'Apple': 1, 'Lemon': 1}\n",
            "  --> False:\n",
            "    Predict {'Apple': 1}\n"
          ]
        }
      ]
    },
    {
      "cell_type": "code",
      "source": [
        "# mengklasifikasikan satu baris data menggunakan decision tree\n",
        "def classify(row, node):\n",
        "\n",
        "    # base case: jika sudah mencapai leaf\n",
        "    if isinstance(node, Leaf):\n",
        "        return node.predictions\n",
        "\n",
        "    # menentukan apakah mengikuti cabang true atau cabang false\n",
        "    # dengan membandingkan nilai fitur pada baris dengan pertanyaan di node\n",
        "    if node.question.match(row):\n",
        "        return classify(row, node.true_branch)\n",
        "    else:\n",
        "        return classify(row, node.false_branch)\n",
        "\n",
        "# contoh penggunaan\n",
        "row = testing_data[0]\n",
        "dist = classify(row, my_tree)\n",
        "pred = max(dist, key=dist.get)\n",
        "print(row, \"=>\", print_leaf(dist), \"| pred:\", pred, \"| true:\", row[-1])\n",
        "\n",
        "correct = 0\n",
        "for r in testing_data:\n",
        "    d = classify(r, my_tree)\n",
        "    p = max(d, key=d.get)\n",
        "    correct += (p == r[-1])\n",
        "    print(r, \"=>\", print_leaf(d), \"| pred:\", p, \"| true:\", r[-1])\n",
        "print(\"Accuracy:\", correct / len(testing_data))"
      ],
      "metadata": {
        "id": "tchvhQc-PVC2",
        "colab": {
          "base_uri": "https://localhost:8080/"
        },
        "outputId": "fca2e9e9-3dc9-4410-a937-cc255e7f706b"
      },
      "execution_count": null,
      "outputs": [
        {
          "output_type": "stream",
          "name": "stdout",
          "text": [
            "['Green', 3, 'Apple'] => {'Apple': '100%'} | pred: Apple | true: Apple\n",
            "['Green', 3, 'Apple'] => {'Apple': '100%'} | pred: Apple | true: Apple\n",
            "['Yellow', 4, 'Apple'] => {'Apple': '50%', 'Lemon': '50%'} | pred: Apple | true: Apple\n",
            "['Red', 2, 'Grape'] => {'Grape': '100%'} | pred: Grape | true: Grape\n",
            "['Red', 1, 'Grape'] => {'Grape': '100%'} | pred: Grape | true: Grape\n",
            "['Yellow', 3, 'Lemon'] => {'Apple': '50%', 'Lemon': '50%'} | pred: Apple | true: Lemon\n",
            "Accuracy: 0.8\n"
          ]
        }
      ]
    },
    {
      "cell_type": "code",
      "source": [
        "# menampilkan prediksi pada leaf dalam format persentase\n",
        "def print_leaf(counts):\n",
        "    total = sum(counts.values())\n",
        "    probs = {}\n",
        "    for lbl, cnt in counts.items():\n",
        "        persen = int(100 * cnt / total) if total > 0 else 0\n",
        "        probs[lbl] = f\"{persen}%\"\n",
        "    return probs\n",
        "\n",
        "# contoh penggunaan\n",
        "print(print_leaf({'Apple': 2, 'Lemon': 1}))"
      ],
      "metadata": {
        "id": "w8r0lzWpQM7c",
        "colab": {
          "base_uri": "https://localhost:8080/"
        },
        "outputId": "0e480c5d-01cb-4022-bf35-225736d1323e"
      },
      "execution_count": null,
      "outputs": [
        {
          "output_type": "stream",
          "name": "stdout",
          "text": [
            "{'Apple': '66%', 'Lemon': '33%'}\n"
          ]
        }
      ]
    },
    {
      "cell_type": "markdown",
      "source": [
        "# Predict Using Decision Tree"
      ],
      "metadata": {
        "id": "JLT1_TuuQWlI"
      }
    },
    {
      "cell_type": "code",
      "source": [
        "# menguji decision tree dengan data uji dan membandingkan hasil prediksi dengan label asli\n",
        "correct = 0\n",
        "for row in testing_data:\n",
        "    dist = classify(row, my_tree)\n",
        "    pred = max(dist, key=dist.get)\n",
        "    true_label = row[-1]\n",
        "    ok = (pred == true_label)\n",
        "    correct += 1 if ok else 0\n",
        "    print(row, \"=>\", print_leaf(dist), \"| pred:\", pred, \"| true:\", true_label, \"|\", \"OK\" if ok else \"X\")\n",
        "\n",
        "accuracy = correct / len(testing_data)\n",
        "print(\"Accuracy:\", accuracy)"
      ],
      "metadata": {
        "id": "DhG5NCwHQSlF",
        "colab": {
          "base_uri": "https://localhost:8080/"
        },
        "outputId": "a0374224-c0a5-4fb6-87dd-01d0f46e8831"
      },
      "execution_count": null,
      "outputs": [
        {
          "output_type": "stream",
          "name": "stdout",
          "text": [
            "['Green', 3, 'Apple'] => {'Apple': '100%'} | pred: Apple | true: Apple | OK\n",
            "['Yellow', 4, 'Apple'] => {'Apple': '50%', 'Lemon': '50%'} | pred: Apple | true: Apple | OK\n",
            "['Red', 2, 'Grape'] => {'Grape': '100%'} | pred: Grape | true: Grape | OK\n",
            "['Red', 1, 'Grape'] => {'Grape': '100%'} | pred: Grape | true: Grape | OK\n",
            "['Yellow', 3, 'Lemon'] => {'Apple': '50%', 'Lemon': '50%'} | pred: Apple | true: Lemon | X\n",
            "Accuracy: 0.8\n"
          ]
        }
      ]
    }
  ]
}